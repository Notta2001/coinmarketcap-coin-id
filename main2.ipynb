{
 "cells": [
  {
   "cell_type": "code",
   "execution_count": 1,
   "metadata": {},
   "outputs": [],
   "source": [
    "import json"
   ]
  },
  {
   "cell_type": "code",
   "execution_count": 2,
   "metadata": {},
   "outputs": [],
   "source": [
    "def get_a_data(coin):\n",
    "  f = open(f'augmented/{coin}_tokens.json'.format(coin))\n",
    "  data = json.load(f)\n",
    "  return data"
   ]
  },
  {
   "cell_type": "code",
   "execution_count": 3,
   "metadata": {},
   "outputs": [],
   "source": [
    "adata = get_a_data('bsc') + get_a_data('eth') + get_a_data('ftm') + get_a_data('polygon')"
   ]
  },
  {
   "cell_type": "code",
   "execution_count": 4,
   "metadata": {},
   "outputs": [
    {
     "data": {
      "text/plain": [
       "{'address': '0x16eccfdbb4ee1a85a33f3a9b21175cd7ae753db4',\n",
       " 'name': 'Router Protocol',\n",
       " 'symbol': 'ROUTE',\n",
       " 'coin_id': 'route',\n",
       " 'cmc_id': 'router-protocol'}"
      ]
     },
     "execution_count": 4,
     "metadata": {},
     "output_type": "execute_result"
    }
   ],
   "source": [
    "adata[-1]"
   ]
  },
  {
   "cell_type": "code",
   "execution_count": 18,
   "metadata": {},
   "outputs": [],
   "source": [
    "def augment_data(file_name):\n",
    "  count = 0\n",
    "  f = open(f'unaugmentedv2/{file_name}_tokens.json'.format(file_name))\n",
    "  udata = json.load(f)\n",
    "  f = open(f'augmentedv2/{file_name}_tokens.json'.format(file_name))\n",
    "  new_adata = json.load(f)\n",
    "  print(len(new_adata))\n",
    "  print(len(udata))\n",
    "  for coin in udata:\n",
    "    for data in adata:\n",
    "      if list(coin).count('coin_id') != 0 and coin['coin_id'] == data['coin_id']:\n",
    "        coin['cmc_id'] = data['cmc_id']\n",
    "        continue\n",
    "  \n",
    "  for coin in udata:\n",
    "    if list(coin).count('cmc_id') != 0:\n",
    "      new_adata.append(coin)\n",
    "      udata.remove(coin)\n",
    "\n",
    "  with open(f'augmentedv2/{file_name}_tokens.json'.format(file_name), 'w') as outfile:\n",
    "    json.dump(new_adata, outfile, indent=4)\n",
    "  with open(f'unaugmentedv2/{file_name}_tokens.json'.format(file_name), 'w') as outfile:\n",
    "    json.dump(udata, outfile, indent=4)\n",
    "  print(len(new_adata))\n",
    "  print(len(udata))"
   ]
  },
  {
   "cell_type": "code",
   "execution_count": 21,
   "metadata": {},
   "outputs": [
    {
     "name": "stdout",
     "output_type": "stream",
     "text": [
      "626\n",
      "734\n",
      "626\n",
      "734\n"
     ]
    }
   ],
   "source": [
    "augment_data('bsc')"
   ]
  },
  {
   "cell_type": "code",
   "execution_count": 23,
   "metadata": {},
   "outputs": [
    {
     "name": "stdout",
     "output_type": "stream",
     "text": [
      "1425\n",
      "1807\n",
      "1425\n",
      "1807\n"
     ]
    }
   ],
   "source": [
    "augment_data('eth')"
   ]
  },
  {
   "cell_type": "code",
   "execution_count": 34,
   "metadata": {},
   "outputs": [
    {
     "name": "stdout",
     "output_type": "stream",
     "text": [
      "56\n",
      "27\n",
      "56\n",
      "27\n"
     ]
    }
   ],
   "source": [
    "augment_data('ftm')"
   ]
  },
  {
   "cell_type": "code",
   "execution_count": 32,
   "metadata": {},
   "outputs": [
    {
     "name": "stdout",
     "output_type": "stream",
     "text": [
      "19\n",
      "4\n",
      "19\n",
      "4\n"
     ]
    }
   ],
   "source": [
    "augment_data('polygon')"
   ]
  },
  {
   "cell_type": "code",
   "execution_count": null,
   "metadata": {},
   "outputs": [],
   "source": []
  }
 ],
 "metadata": {
  "kernelspec": {
   "display_name": "Python 3.8.10 64-bit",
   "language": "python",
   "name": "python3"
  },
  "language_info": {
   "codemirror_mode": {
    "name": "ipython",
    "version": 3
   },
   "file_extension": ".py",
   "mimetype": "text/x-python",
   "name": "python",
   "nbconvert_exporter": "python",
   "pygments_lexer": "ipython3",
   "version": "3.8.10"
  },
  "orig_nbformat": 4,
  "vscode": {
   "interpreter": {
    "hash": "916dbcbb3f70747c44a77c7bcd40155683ae19c65e1c03b4aa3499c5328201f1"
   }
  }
 },
 "nbformat": 4,
 "nbformat_minor": 2
}
