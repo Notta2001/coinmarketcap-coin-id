{
 "cells": [
  {
   "cell_type": "markdown",
   "metadata": {},
   "source": [
    "# Cross check 4 chains"
   ]
  },
  {
   "cell_type": "code",
   "execution_count": null,
   "metadata": {},
   "outputs": [],
   "source": [
    "# Check if there is a cmc_id of this token in another chain"
   ]
  },
  {
   "cell_type": "code",
   "execution_count": 4,
   "metadata": {},
   "outputs": [],
   "source": [
    "import json"
   ]
  },
  {
   "cell_type": "code",
   "execution_count": 5,
   "metadata": {},
   "outputs": [],
   "source": [
    "def get_a_data(coin):\n",
    "  f = open(f'augmented/{coin}_tokens.json'.format(coin))\n",
    "  data = json.load(f)\n",
    "  return data"
   ]
  },
  {
   "cell_type": "code",
   "execution_count": 6,
   "metadata": {},
   "outputs": [],
   "source": [
    "adata = get_a_data('bsc') + get_a_data('eth') + get_a_data('ftm') + get_a_data('polygon')"
   ]
  },
  {
   "cell_type": "code",
   "execution_count": 13,
   "metadata": {},
   "outputs": [],
   "source": [
    "def augment_data(file_name):\n",
    "  count = 0\n",
    "  f = open(f'unaugmented/{file_name}_tokens.json'.format(file_name))\n",
    "  udata = json.load(f)\n",
    "  f = open(f'augmented/{file_name}_tokens.json'.format(file_name))\n",
    "  new_adata = json.load(f)\n",
    "  print(len(new_adata))\n",
    "  print(len(udata))\n",
    "  for coin in udata:\n",
    "    for data in adata:\n",
    "      if list(coin).count('coin_id') != 0 and coin['coin_id'] == data['coin_id']:\n",
    "        coin['cmc_id'] = data['cmc_id']\n",
    "        continue\n",
    "  \n",
    "  for coin in udata:\n",
    "    if list(coin).count('cmc_id') != 0:\n",
    "      new_adata.append(coin)\n",
    "      udata.remove(coin)\n",
    "\n",
    "  with open(f'augmentedv2/{file_name}_tokens.json'.format(file_name), 'w') as outfile:\n",
    "    json.dump(new_adata, outfile, indent=4)\n",
    "  with open(f'unaugmentedv2/{file_name}_tokens.json'.format(file_name), 'w') as outfile:\n",
    "    json.dump(udata, outfile, indent=4)\n",
    "  print(len(new_adata))\n",
    "  print(len(udata))"
   ]
  },
  {
   "cell_type": "code",
   "execution_count": 19,
   "metadata": {},
   "outputs": [
    {
     "name": "stdout",
     "output_type": "stream",
     "text": [
      "846\n",
      "560\n",
      "846\n",
      "560\n"
     ]
    }
   ],
   "source": [
    "augment_data('bsc')"
   ]
  },
  {
   "cell_type": "code",
   "execution_count": 20,
   "metadata": {},
   "outputs": [
    {
     "name": "stdout",
     "output_type": "stream",
     "text": [
      "1986\n",
      "1307\n",
      "1986\n",
      "1307\n"
     ]
    }
   ],
   "source": [
    "augment_data('eth')"
   ]
  },
  {
   "cell_type": "code",
   "execution_count": 23,
   "metadata": {},
   "outputs": [
    {
     "name": "stdout",
     "output_type": "stream",
     "text": [
      "76\n",
      "12\n",
      "76\n",
      "12\n"
     ]
    }
   ],
   "source": [
    "augment_data('ftm')"
   ]
  },
  {
   "cell_type": "code",
   "execution_count": 25,
   "metadata": {},
   "outputs": [
    {
     "name": "stdout",
     "output_type": "stream",
     "text": [
      "20\n",
      "4\n",
      "20\n",
      "4\n"
     ]
    }
   ],
   "source": [
    "augment_data('polygon')"
   ]
  }
 ],
 "metadata": {
  "kernelspec": {
   "display_name": "Python 3.8.10 64-bit",
   "language": "python",
   "name": "python3"
  },
  "language_info": {
   "codemirror_mode": {
    "name": "ipython",
    "version": 3
   },
   "file_extension": ".py",
   "mimetype": "text/x-python",
   "name": "python",
   "nbconvert_exporter": "python",
   "pygments_lexer": "ipython3",
   "version": "3.8.10"
  },
  "orig_nbformat": 4,
  "vscode": {
   "interpreter": {
    "hash": "916dbcbb3f70747c44a77c7bcd40155683ae19c65e1c03b4aa3499c5328201f1"
   }
  }
 },
 "nbformat": 4,
 "nbformat_minor": 2
}
