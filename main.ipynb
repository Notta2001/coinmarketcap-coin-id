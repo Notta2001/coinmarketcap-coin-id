{
 "cells": [
  {
   "cell_type": "code",
   "execution_count": null,
   "metadata": {},
   "outputs": [],
   "source": [
    "import time\n",
    "import json"
   ]
  },
  {
   "cell_type": "markdown",
   "metadata": {},
   "source": [
    "# Get tokens list from Coin Market Cap\n"
   ]
  },
  {
   "cell_type": "code",
   "execution_count": 1,
   "metadata": {},
   "outputs": [
    {
     "name": "stdout",
     "output_type": "stream",
     "text": [
      "{'id': 3662, 'name': 'HedgeTrade', 'symbol': 'HEDG', 'slug': 'hedgetrade', 'rank': 399, 'displayTV': 1, 'is_active': 1, 'first_historical_data': '2019-01-03T17:49:38.000Z', 'last_historical_data': '2022-11-02T07:59:00.000Z', 'platform': {'id': 1027, 'name': 'Ethereum', 'symbol': 'ETH', 'slug': 'ethereum', 'token_address': '0xF1290473E210b2108A85237fbCd7b6eb42Cc654F'}}\n"
     ]
    }
   ],
   "source": [
    "from requests import Request, Session\n",
    "from requests.exceptions import ConnectionError, Timeout, TooManyRedirects\n",
    "import json\n",
    "\n",
    "url = 'https://pro-api.coinmarketcap.com/v1/cryptocurrency/map'\n",
    "parameters = {\n",
    "  'start':'1',\n",
    "  'limit':'5000',\n",
    "  'convert':'USD'\n",
    "}\n",
    "headers = {\n",
    "  'Accepts': 'application/json',\n",
    "  'X-CMC_PRO_API_KEY': 'd0846215-0c0f-4fcb-82a7-7755f505c9d3',\n",
    "}\n",
    "\n",
    "session = Session()\n",
    "session.headers.update(headers)\n",
    "\n",
    "try:\n",
    "  response = session.get(url)\n",
    "  dataCMC = json.loads(response.text)\n",
    "\n",
    "  print(dataCMC['data'][1002])\n",
    "except (ConnectionError, Timeout, TooManyRedirects) as e:\n",
    "  print(e)"
   ]
  },
  {
   "cell_type": "markdown",
   "metadata": {},
   "source": [
    "## Remove Tokens which platform == None"
   ]
  },
  {
   "cell_type": "code",
   "execution_count": 2,
   "metadata": {},
   "outputs": [
    {
     "data": {
      "text/plain": [
       "[{'slug': 'belacoin',\n",
       "  'address': '0x2e98a6804e4b6c832ed0ca876a943abd3400b224',\n",
       "  'chain': 'ETH',\n",
       "  'id': 217},\n",
       " {'slug': 'gamecredits',\n",
       "  'address': '0x63f88a2298a5c4aee3c216aa6d926b184a4b2437',\n",
       "  'chain': 'ETH',\n",
       "  'id': 576},\n",
       " {'slug': 'circuits-of-value',\n",
       "  'address': '0x3d658390460295fb963f54dc0899cfb1c30776df',\n",
       "  'chain': 'ETH',\n",
       "  'id': 788},\n",
       " {'slug': 'tether',\n",
       "  'address': '0xdac17f958d2ee523a2206206994597c13d831ec7',\n",
       "  'chain': 'ETH',\n",
       "  'id': 825},\n",
       " {'slug': 'xaurum',\n",
       "  'address': '0x4DF812F6064def1e5e029f1ca858777CC98D2D81',\n",
       "  'chain': 'ETH',\n",
       "  'id': 895},\n",
       " {'slug': 'agoras-tokens',\n",
       "  'address': '0x738865301a9b7dd80dc3666dd48cf034ec42bdda',\n",
       "  'chain': 'ETH',\n",
       "  'id': 1037},\n",
       " {'slug': 'augur',\n",
       "  'address': '0x1985365e9f78359a9B6AD760e32412f4a445E862',\n",
       "  'chain': 'ETH',\n",
       "  'id': 1104},\n",
       " {'slug': 'digixdao',\n",
       "  'address': '0xe0b7927c4af23765cb51314a0e0521a9645f0e2a',\n",
       "  'chain': 'ETH',\n",
       "  'id': 1229},\n",
       " {'slug': 'pluton',\n",
       "  'address': '0xd8912c10681d8b21fd3742244f44658dba12264e',\n",
       "  'chain': 'ETH',\n",
       "  'id': 1392},\n",
       " {'slug': 'wings',\n",
       "  'address': '0x667088b212ce3d06a1b553a7221E1fD19000d9aF',\n",
       "  'chain': 'ETH',\n",
       "  'id': 1500}]"
      ]
     },
     "execution_count": 2,
     "metadata": {},
     "output_type": "execute_result"
    }
   ],
   "source": [
    "ids = []\n",
    "for coin_data in dataCMC['data']:\n",
    "  ids.append(coin_data['id'])"
   ]
  },
  {
   "cell_type": "markdown",
   "metadata": {},
   "source": [
    "## Get tokens data, batch_size = 100"
   ]
  },
  {
   "cell_type": "code",
   "execution_count": null,
   "metadata": {},
   "outputs": [],
   "source": [
    "count = 0\n",
    "_id = ''\n",
    "cmc_data = []\n",
    "for id in ids:\n",
    "  count += 1\n",
    "  if count % 100 == 0 or count == len(ids):\n",
    "    time.sleep(3)\n",
    "    _id = _id + str(id)\n",
    "    url = f'https://pro-api.coinmarketcap.com/v2/cryptocurrency/info?id={_id}'.format(_id)\n",
    "    headers = {\n",
    "      'Accepts': 'application/json',\n",
    "      'X-CMC_PRO_API_KEY': 'd0846215-0c0f-4fcb-82a7-7755f505c9d3',\n",
    "    }\n",
    "\n",
    "    session = Session()\n",
    "    session.headers.update(headers)\n",
    "\n",
    "    try:\n",
    "      response = session.get(url)\n",
    "      fetched_data = json.loads(response.text)\n",
    "      for coin in fetched_data['data']:\n",
    "        coin_data = fetched_data['data'][coin]\n",
    "        cmc_data.append({\n",
    "          'slug': coin_data['slug'],\n",
    "          'contract_address': coin_data['contract_address']\n",
    "        })\n",
    "      # print(cmc_data)\n",
    "    except (ConnectionError, Timeout, TooManyRedirects) as e:\n",
    "      print(e)\n",
    "    _id =''\n",
    "  else:\n",
    "    _id = _id + str(id) +  ','"
   ]
  },
  {
   "cell_type": "markdown",
   "metadata": {},
   "source": [
    "## Store tokens data"
   ]
  },
  {
   "cell_type": "code",
   "execution_count": 3,
   "metadata": {},
   "outputs": [
    {
     "ename": "NameError",
     "evalue": "name 'cmc_data' is not defined",
     "output_type": "error",
     "traceback": [
      "\u001b[0;31m---------------------------------------------------------------------------\u001b[0m",
      "\u001b[0;31mNameError\u001b[0m                                 Traceback (most recent call last)",
      "\u001b[1;32m/home/notta/Desktop/Coding/Backend/MappingID/main.ipynb Cell 12\u001b[0m in \u001b[0;36m<cell line: 1>\u001b[0;34m()\u001b[0m\n\u001b[1;32m      <a href='vscode-notebook-cell:/home/notta/Desktop/Coding/Backend/MappingID/main.ipynb#X13sZmlsZQ%3D%3D?line=0'>1</a>\u001b[0m \u001b[39mwith\u001b[39;00m \u001b[39mopen\u001b[39m(\u001b[39m'\u001b[39m\u001b[39mdata.json\u001b[39m\u001b[39m'\u001b[39m, \u001b[39m'\u001b[39m\u001b[39mw\u001b[39m\u001b[39m'\u001b[39m) \u001b[39mas\u001b[39;00m outfile:\n\u001b[0;32m----> <a href='vscode-notebook-cell:/home/notta/Desktop/Coding/Backend/MappingID/main.ipynb#X13sZmlsZQ%3D%3D?line=1'>2</a>\u001b[0m       json\u001b[39m.\u001b[39mdump(cmc_data, outfile, indent\u001b[39m=\u001b[39m\u001b[39m4\u001b[39m)\n",
      "\u001b[0;31mNameError\u001b[0m: name 'cmc_data' is not defined"
     ]
    }
   ],
   "source": [
    "with open('data.json', 'w') as outfile:\n",
    "      json.dump(cmc_data, outfile, indent=4)"
   ]
  },
  {
   "cell_type": "markdown",
   "metadata": {},
   "source": [
    "## Split data into 4 categories based on platform"
   ]
  },
  {
   "cell_type": "code",
   "execution_count": 4,
   "metadata": {},
   "outputs": [
    {
     "ename": "NameError",
     "evalue": "name 'cmc_data' is not defined",
     "output_type": "error",
     "traceback": [
      "\u001b[0;31m---------------------------------------------------------------------------\u001b[0m",
      "\u001b[0;31mNameError\u001b[0m                                 Traceback (most recent call last)",
      "\u001b[1;32m/home/notta/Desktop/Coding/Backend/MappingID/main.ipynb Cell 13\u001b[0m in \u001b[0;36m<cell line: 5>\u001b[0;34m()\u001b[0m\n\u001b[1;32m      <a href='vscode-notebook-cell:/home/notta/Desktop/Coding/Backend/MappingID/main.ipynb#X14sZmlsZQ%3D%3D?line=2'>3</a>\u001b[0m data_FTM \u001b[39m=\u001b[39m []\n\u001b[1;32m      <a href='vscode-notebook-cell:/home/notta/Desktop/Coding/Backend/MappingID/main.ipynb#X14sZmlsZQ%3D%3D?line=3'>4</a>\u001b[0m data_MATIC \u001b[39m=\u001b[39m []\n\u001b[0;32m----> <a href='vscode-notebook-cell:/home/notta/Desktop/Coding/Backend/MappingID/main.ipynb#X14sZmlsZQ%3D%3D?line=4'>5</a>\u001b[0m \u001b[39mfor\u001b[39;00m coin \u001b[39min\u001b[39;00m cmc_data:\n\u001b[1;32m      <a href='vscode-notebook-cell:/home/notta/Desktop/Coding/Backend/MappingID/main.ipynb#X14sZmlsZQ%3D%3D?line=5'>6</a>\u001b[0m   \u001b[39mfor\u001b[39;00m pfs \u001b[39min\u001b[39;00m coin[\u001b[39m'\u001b[39m\u001b[39mcontract_address\u001b[39m\u001b[39m'\u001b[39m]:\n\u001b[1;32m      <a href='vscode-notebook-cell:/home/notta/Desktop/Coding/Backend/MappingID/main.ipynb#X14sZmlsZQ%3D%3D?line=6'>7</a>\u001b[0m     \u001b[39mif\u001b[39;00m pfs[\u001b[39m'\u001b[39m\u001b[39mplatform\u001b[39m\u001b[39m'\u001b[39m][\u001b[39m'\u001b[39m\u001b[39mcoin\u001b[39m\u001b[39m'\u001b[39m][\u001b[39m'\u001b[39m\u001b[39msymbol\u001b[39m\u001b[39m'\u001b[39m] \u001b[39m==\u001b[39m \u001b[39m'\u001b[39m\u001b[39mBNB\u001b[39m\u001b[39m'\u001b[39m:\n",
      "\u001b[0;31mNameError\u001b[0m: name 'cmc_data' is not defined"
     ]
    }
   ],
   "source": [
    "data_BNB = []\n",
    "data_ETH = []\n",
    "data_FTM = []\n",
    "data_MATIC = []\n",
    "for coin in cmc_data:\n",
    "  for pfs in coin['contract_address']:\n",
    "    if pfs['platform']['coin']['symbol'] == 'BNB':\n",
    "      data_BNB.append({\n",
    "        'slug': coin['slug'],\n",
    "        'address': pfs['contract_address']\n",
    "      })\n",
    "    if pfs['platform']['coin']['symbol'] == 'ETH' :\n",
    "      data_ETH.append({\n",
    "        'slug': coin['slug'],\n",
    "        'address': pfs['contract_address']\n",
    "      })\n",
    "    if pfs['platform']['coin']['symbol'] == 'FTM':\n",
    "      data_FTM.append({\n",
    "        'slug': coin['slug'],\n",
    "        'address': pfs['contract_address']\n",
    "      })\n",
    "    if pfs['platform']['coin']['symbol'] == 'MATIC':\n",
    "      data_MATIC.append({\n",
    "        'slug': coin['slug'],\n",
    "        'address': pfs['contract_address']\n",
    "      })\n",
    "with open('data_BNB.json', 'w') as outfile:\n",
    "      json.dump(data_BNB, outfile, indent=4)\n",
    "with open('data_ETH.json', 'w') as outfile:\n",
    "      json.dump(data_ETH, outfile, indent=4)\n",
    "with open('data_FTM.json', 'w') as outfile:\n",
    "      json.dump(data_FTM, outfile, indent=4)\n",
    "with open('data_MATIC.json', 'w') as outfile:\n",
    "      json.dump(data_MATIC, outfile, indent=4)"
   ]
  },
  {
   "cell_type": "markdown",
   "metadata": {},
   "source": [
    "## Store all data into cmcdata.json"
   ]
  },
  {
   "cell_type": "code",
   "execution_count": null,
   "metadata": {},
   "outputs": [],
   "source": [
    "with open('cmcdata.json', 'w') as outfile:\n",
    "  json.dump(data_BNB + data_ETH + data_FTM + data_MATIC, outfile, indent=4)"
   ]
  },
  {
   "cell_type": "markdown",
   "metadata": {},
   "source": [
    "# Main "
   ]
  },
  {
   "cell_type": "code",
   "execution_count": null,
   "metadata": {},
   "outputs": [],
   "source": [
    "f = open('origin/bsc_tokens.json')\n",
    "data = json.load(f)"
   ]
  },
  {
   "cell_type": "code",
   "execution_count": 6,
   "metadata": {},
   "outputs": [],
   "source": [
    "def augment_data(file_name, data):\n",
    "  f = open(f'origin/{file_name}.json'.format(file_name))\n",
    "  odata = json.load(f)\n",
    "  print(len(odata))\n",
    "\n",
    "  augmented_data = [] # Tokens which can find cmc_id\n",
    "  unaugmented_data = [] # Tokens which cannot find cmc_id\n",
    "  for odoc in odata:\n",
    "    augmented = False\n",
    "    for doc in data:\n",
    "      if odoc['address'].lower() == doc['address'].lower():\n",
    "        odoc['cmc_id'] = doc['slug']\n",
    "        augmented = True \n",
    "        augmented_data.append(odoc)\n",
    "    if not augmented:\n",
    "      unaugmented_data.append(odoc) \n",
    "  print(len(augmented_data), len(unaugmented_data))\n",
    "    \n",
    "  with open(f'augmented/{file_name}.json'.format(file_name), 'w') as outfile:\n",
    "    json.dump(augmented_data, outfile, indent=4)\n",
    "  with open(f'unaugmented/{file_name}.json'.format(file_name), 'w') as outfile:\n",
    "    json.dump(unaugmented_data, outfile, indent=4)"
   ]
  },
  {
   "cell_type": "code",
   "execution_count": 8,
   "metadata": {},
   "outputs": [
    {
     "name": "stdout",
     "output_type": "stream",
     "text": [
      "1360\n",
      "805 601\n",
      "3232\n",
      "1979 1314\n",
      "83\n",
      "54 34\n",
      "23\n",
      "13 11\n"
     ]
    }
   ],
   "source": [
    "augment_data('bsc_tokens',data)\n",
    "augment_data('eth_tokens', data)\n",
    "augment_data('ftm_tokens', data)\n",
    "augment_data('polygon_tokens', data)"
   ]
  }
 ],
 "metadata": {
  "kernelspec": {
   "display_name": "Python 3.8.10 64-bit",
   "language": "python",
   "name": "python3"
  },
  "language_info": {
   "codemirror_mode": {
    "name": "ipython",
    "version": 3
   },
   "file_extension": ".py",
   "mimetype": "text/x-python",
   "name": "python",
   "nbconvert_exporter": "python",
   "pygments_lexer": "ipython3",
   "version": "3.8.10"
  },
  "orig_nbformat": 4,
  "vscode": {
   "interpreter": {
    "hash": "916dbcbb3f70747c44a77c7bcd40155683ae19c65e1c03b4aa3499c5328201f1"
   }
  }
 },
 "nbformat": 4,
 "nbformat_minor": 2
}
