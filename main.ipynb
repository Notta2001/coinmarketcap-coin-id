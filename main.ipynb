{
 "cells": [
  {
   "cell_type": "code",
   "execution_count": 4,
   "metadata": {},
   "outputs": [
    {
     "name": "stdout",
     "output_type": "stream",
     "text": [
      "{'id': 3639, 'name': 'PlayGame', 'symbol': 'PXG', 'slug': 'playgame', 'rank': 1884, 'is_active': 1, 'first_historical_data': '2018-12-18T20:44:37.000Z', 'last_historical_data': '2022-10-06T08:09:00.000Z', 'platform': {'id': 1027, 'name': 'Ethereum', 'symbol': 'ETH', 'slug': 'ethereum', 'token_address': '0x47e67ba66b0699500f18a53f94e2b9db3d47437e'}}\n"
     ]
    }
   ],
   "source": [
    "from requests import Request, Session\n",
    "from requests.exceptions import ConnectionError, Timeout, TooManyRedirects\n",
    "import json\n",
    "\n",
    "url = 'https://pro-api.coinmarketcap.com/v1/cryptocurrency/map'\n",
    "parameters = {\n",
    "  'start':'1',\n",
    "  'limit':'5000',\n",
    "  'convert':'USD'\n",
    "}\n",
    "headers = {\n",
    "  'Accepts': 'application/json',\n",
    "  'X-CMC_PRO_API_KEY': 'd0846215-0c0f-4fcb-82a7-7755f505c9d3',\n",
    "}\n",
    "\n",
    "session = Session()\n",
    "session.headers.update(headers)\n",
    "\n",
    "try:\n",
    "  response = session.get(url)\n",
    "  dataCMC = json.loads(response.text)\n",
    "\n",
    "  print(dataCMC['data'][1002])\n",
    "except (ConnectionError, Timeout, TooManyRedirects) as e:\n",
    "  print(e)"
   ]
  },
  {
   "cell_type": "code",
   "execution_count": 69,
   "metadata": {},
   "outputs": [
    {
     "data": {
      "text/plain": [
       "[{'slug': 'belacoin',\n",
       "  'address': '0x2e98a6804e4b6c832ed0ca876a943abd3400b224',\n",
       "  'chain': 'ETH'},\n",
       " {'slug': 'gamecredits',\n",
       "  'address': '0x63f88a2298a5c4aee3c216aa6d926b184a4b2437',\n",
       "  'chain': 'ETH'},\n",
       " {'slug': 'circuits-of-value',\n",
       "  'address': '0x3d658390460295fb963f54dc0899cfb1c30776df',\n",
       "  'chain': 'ETH'},\n",
       " {'slug': 'tether',\n",
       "  'address': '0xdac17f958d2ee523a2206206994597c13d831ec7',\n",
       "  'chain': 'ETH'},\n",
       " {'slug': 'xaurum',\n",
       "  'address': '0x4DF812F6064def1e5e029f1ca858777CC98D2D81',\n",
       "  'chain': 'ETH'},\n",
       " {'slug': 'agoras-tokens',\n",
       "  'address': '0x738865301a9b7dd80dc3666dd48cf034ec42bdda',\n",
       "  'chain': 'ETH'},\n",
       " {'slug': 'augur',\n",
       "  'address': '0x1985365e9f78359a9B6AD760e32412f4a445E862',\n",
       "  'chain': 'ETH'},\n",
       " {'slug': 'digixdao',\n",
       "  'address': '0xe0b7927c4af23765cb51314a0e0521a9645f0e2a',\n",
       "  'chain': 'ETH'},\n",
       " {'slug': 'pluton',\n",
       "  'address': '0xd8912c10681d8b21fd3742244f44658dba12264e',\n",
       "  'chain': 'ETH'},\n",
       " {'slug': 'wings',\n",
       "  'address': '0x667088b212ce3d06a1b553a7221E1fD19000d9aF',\n",
       "  'chain': 'ETH'}]"
      ]
     },
     "execution_count": 69,
     "metadata": {},
     "output_type": "execute_result"
    }
   ],
   "source": [
    "compact_dataCMC = []\n",
    "for coin_data in dataCMC['data']:\n",
    "  if coin_data['platform'] != None:\n",
    "    pfs = coin_data['platform']\n",
    "    # print(pfs)\n",
    "    compact_dataCMC.append({\n",
    "      'slug': coin_data['slug'],\n",
    "      'address': pfs['token_address'],\n",
    "      'chain': pfs['symbol']\n",
    "    })\n",
    "compact_dataCMC[:10]"
   ]
  },
  {
   "cell_type": "code",
   "execution_count": 20,
   "metadata": {},
   "outputs": [],
   "source": [
    "data_BNB = []\n",
    "data_ETH = []\n",
    "data_FTM = []\n",
    "data_MATIC = []\n",
    "for data in compact_dataCMC:\n",
    "  if data['chain'] == 'BNB':\n",
    "    data_BNB.append(data)\n",
    "  if data['chain'] == 'ETH':\n",
    "    data_ETH.append(data)\n",
    "  if data['chain'] == 'FTM':\n",
    "    data_FTM.append(data)\n",
    "  if data['chain'] == 'MATIC':\n",
    "    data_MATIC.append(data)"
   ]
  },
  {
   "cell_type": "markdown",
   "metadata": {},
   "source": []
  },
  {
   "cell_type": "code",
   "execution_count": 40,
   "metadata": {},
   "outputs": [
    {
     "name": "stdout",
     "output_type": "stream",
     "text": [
      "{'coin_id': 'binancecoin', 'name': 'Binance Coin', 'symbol': 'BNB', 'address': '0x', 'decimals': 18, 'market_cap_rank': 5, 'total_volume': 53927152493, 'market_cap': 65974526709, 'price': 478.12}\n"
     ]
    }
   ],
   "source": [
    "import json \n",
    "\n",
    "f = open('origin/bsc_tokens.json')\n",
    "data = json.load(f)\n",
    "odata_BNB = data.copy()\n",
    "\n",
    "print(odata_BNB[0])"
   ]
  },
  {
   "cell_type": "code",
   "execution_count": 62,
   "metadata": {},
   "outputs": [],
   "source": [
    "def augment_data(file_name, data):\n",
    "  f = open(f'origin/{file_name}.json'.format(file_name))\n",
    "  odata = json.load(f)\n",
    "  print(len(odata))\n",
    "\n",
    "  augmented_data = []\n",
    "  unaugmented_data = []\n",
    "  for odoc in odata:\n",
    "    augmented = False\n",
    "    for doc in data:\n",
    "      if odoc['address'] == doc['address']:\n",
    "        odoc['cmc_id'] = doc['slug']\n",
    "        augmented = True \n",
    "        augmented_data.append(odoc['name'])\n",
    "    if not augmented:\n",
    "      unaugmented_data.append(odoc['name']) \n",
    "  print(len(augmented_data), len(unaugmented_data))\n",
    "    \n",
    "  with open(f'augmented/{file_name}.json'.format(file_name), 'w') as outfile:\n",
    "      json.dump(odata_BNB, outfile, indent=4)"
   ]
  },
  {
   "cell_type": "code",
   "execution_count": 67,
   "metadata": {},
   "outputs": [
    {
     "name": "stdout",
     "output_type": "stream",
     "text": [
      "1360\n",
      "334 1026\n",
      "3232\n",
      "1313 1919\n",
      "83\n",
      "10 73\n",
      "23\n",
      "1 22\n"
     ]
    }
   ],
   "source": [
    "augment_data('bsc_tokens', data_BNB)\n",
    "augment_data('eth_tokens', data_ETH)\n",
    "augment_data('ftm_tokens', data_FTM)\n",
    "augment_data('polygon_tokens', data_MATIC)"
   ]
  }
 ],
 "metadata": {
  "kernelspec": {
   "display_name": "Python 3.8.10 64-bit",
   "language": "python",
   "name": "python3"
  },
  "language_info": {
   "codemirror_mode": {
    "name": "ipython",
    "version": 3
   },
   "file_extension": ".py",
   "mimetype": "text/x-python",
   "name": "python",
   "nbconvert_exporter": "python",
   "pygments_lexer": "ipython3",
   "version": "3.8.10"
  },
  "orig_nbformat": 4,
  "vscode": {
   "interpreter": {
    "hash": "916dbcbb3f70747c44a77c7bcd40155683ae19c65e1c03b4aa3499c5328201f1"
   }
  }
 },
 "nbformat": 4,
 "nbformat_minor": 2
}
